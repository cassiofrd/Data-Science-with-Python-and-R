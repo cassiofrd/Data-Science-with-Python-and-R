{
 "cells": [
  {
   "cell_type": "markdown",
   "metadata": {},
   "source": [
    "# <font color='blue'>Data Science Academy - Visualização de Dados e Design de Dashboards</font>"
   ]
  },
  {
   "cell_type": "markdown",
   "metadata": {},
   "source": [
    "## Mapas Interativos com Geoplotlib"
   ]
  },
  {
   "cell_type": "code",
   "execution_count": 1,
   "metadata": {},
   "outputs": [
    {
     "name": "stdout",
     "output_type": "stream",
     "text": [
      "Requirement already satisfied: ipykernel in /Users/dmpm/anaconda3/lib/python3.6/site-packages (4.8.2)\n",
      "Requirement already satisfied: ipython>=4.0.0 in /Users/dmpm/anaconda3/lib/python3.6/site-packages (from ipykernel) (6.4.0)\n",
      "Requirement already satisfied: traitlets>=4.1.0 in /Users/dmpm/anaconda3/lib/python3.6/site-packages (from ipykernel) (4.3.2)\n",
      "Requirement already satisfied: jupyter_client in /Users/dmpm/anaconda3/lib/python3.6/site-packages (from ipykernel) (5.2.3)\n",
      "Requirement already satisfied: tornado>=4.0 in /Users/dmpm/anaconda3/lib/python3.6/site-packages (from ipykernel) (5.0.2)\n",
      "Requirement already satisfied: setuptools>=18.5 in /Users/dmpm/anaconda3/lib/python3.6/site-packages (from ipython>=4.0.0->ipykernel) (39.1.0)\n",
      "Requirement already satisfied: prompt-toolkit<2.0.0,>=1.0.15 in /Users/dmpm/anaconda3/lib/python3.6/site-packages (from ipython>=4.0.0->ipykernel) (1.0.15)\n",
      "Requirement already satisfied: appnope; sys_platform == \"darwin\" in /Users/dmpm/anaconda3/lib/python3.6/site-packages (from ipython>=4.0.0->ipykernel) (0.1.0)\n",
      "Requirement already satisfied: jedi>=0.10 in /Users/dmpm/anaconda3/lib/python3.6/site-packages (from ipython>=4.0.0->ipykernel) (0.12.0)\n",
      "Requirement already satisfied: backcall in /Users/dmpm/anaconda3/lib/python3.6/site-packages (from ipython>=4.0.0->ipykernel) (0.1.0)\n",
      "Requirement already satisfied: pygments in /Users/dmpm/anaconda3/lib/python3.6/site-packages (from ipython>=4.0.0->ipykernel) (2.2.0)\n",
      "Requirement already satisfied: pickleshare in /Users/dmpm/anaconda3/lib/python3.6/site-packages (from ipython>=4.0.0->ipykernel) (0.7.4)\n",
      "Requirement already satisfied: pexpect; sys_platform != \"win32\" in /Users/dmpm/anaconda3/lib/python3.6/site-packages (from ipython>=4.0.0->ipykernel) (4.5.0)\n",
      "Requirement already satisfied: decorator in /Users/dmpm/anaconda3/lib/python3.6/site-packages (from ipython>=4.0.0->ipykernel) (4.3.0)\n",
      "Requirement already satisfied: simplegeneric>0.8 in /Users/dmpm/anaconda3/lib/python3.6/site-packages (from ipython>=4.0.0->ipykernel) (0.8.1)\n",
      "Requirement already satisfied: ipython_genutils in /Users/dmpm/anaconda3/lib/python3.6/site-packages (from traitlets>=4.1.0->ipykernel) (0.2.0)\n",
      "Requirement already satisfied: six in /Users/dmpm/anaconda3/lib/python3.6/site-packages (from traitlets>=4.1.0->ipykernel) (1.11.0)\n",
      "Requirement already satisfied: jupyter_core in /Users/dmpm/anaconda3/lib/python3.6/site-packages (from jupyter_client->ipykernel) (4.4.0)\n",
      "Requirement already satisfied: pyzmq>=13 in /Users/dmpm/anaconda3/lib/python3.6/site-packages (from jupyter_client->ipykernel) (17.0.0)\n",
      "Requirement already satisfied: python-dateutil>=2.1 in /Users/dmpm/anaconda3/lib/python3.6/site-packages (from jupyter_client->ipykernel) (2.7.3)\n",
      "Requirement already satisfied: wcwidth in /Users/dmpm/anaconda3/lib/python3.6/site-packages (from prompt-toolkit<2.0.0,>=1.0.15->ipython>=4.0.0->ipykernel) (0.1.7)\n",
      "Requirement already satisfied: parso>=0.2.0 in /Users/dmpm/anaconda3/lib/python3.6/site-packages (from jedi>=0.10->ipython>=4.0.0->ipykernel) (0.2.0)\n",
      "Requirement already satisfied: ptyprocess>=0.5 in /Users/dmpm/anaconda3/lib/python3.6/site-packages (from pexpect; sys_platform != \"win32\"->ipython>=4.0.0->ipykernel) (0.5.2)\n"
     ]
    }
   ],
   "source": [
    "!pip install ipykernel"
   ]
  },
  {
   "cell_type": "code",
   "execution_count": 2,
   "metadata": {},
   "outputs": [
    {
     "name": "stdout",
     "output_type": "stream",
     "text": [
      "Collecting pyglet==1.2.4\n",
      "\u001b[?25l  Downloading https://files.pythonhosted.org/packages/68/c3/300c6f92b21886b0fe42c13f3a39a06c6cb90c9fbb1b71da85fe59091a7d/pyglet-1.2.4-py3-none-any.whl (964kB)\n",
      "\u001b[K    100% |████████████████████████████████| 972kB 8.8MB/s eta 0:00:01\n",
      "\u001b[?25hInstalling collected packages: pyglet\n",
      "Successfully installed pyglet-1.2.4\n"
     ]
    }
   ],
   "source": [
    "### BAIXANDO ESSA VERSÃO, PORQUE A VERSÃO ATUAL 1.3 ESTÁ COM BUGs\n",
    "!pip install pyglet==1.2.4 "
   ]
  },
  {
   "cell_type": "code",
   "execution_count": 3,
   "metadata": {},
   "outputs": [
    {
     "name": "stdout",
     "output_type": "stream",
     "text": [
      "Collecting geoplotlib\n",
      "  Downloading https://files.pythonhosted.org/packages/19/61/19508de54a7ca9c7161145ef1153bf3b11afc7abf7c28bded5f7260efd1c/geoplotlib-0.3.2.tar.gz\n",
      "Building wheels for collected packages: geoplotlib\n",
      "  Running setup.py bdist_wheel for geoplotlib ... \u001b[?25ldone\n",
      "\u001b[?25h  Stored in directory: /Users/dmpm/Library/Caches/pip/wheels/c1/66/6f/0004f2792164ceeacf6ec80766530cbc44555bf8e64c397d80\n",
      "Successfully built geoplotlib\n",
      "Installing collected packages: geoplotlib\n",
      "Successfully installed geoplotlib-0.3.2\n"
     ]
    }
   ],
   "source": [
    "!pip install geoplotlib"
   ]
  },
  {
   "cell_type": "code",
   "execution_count": 4,
   "metadata": {},
   "outputs": [],
   "source": [
    "import geoplotlib"
   ]
  },
  {
   "cell_type": "code",
   "execution_count": 5,
   "metadata": {},
   "outputs": [],
   "source": [
    "# Mapa de Densidade\n",
    "from geoplotlib.utils import read_csv\n",
    "\n",
    "data = read_csv('data/bus.csv')\n",
    "geoplotlib.dot(data)\n",
    "geoplotlib.show()"
   ]
  },
  {
   "cell_type": "code",
   "execution_count": 6,
   "metadata": {},
   "outputs": [],
   "source": [
    "# Histograma 2D\n",
    "from geoplotlib.utils import read_csv, BoundingBox\n",
    "\n",
    "data = read_csv('data/opencellid_dk.csv')\n",
    "geoplotlib.hist(data, colorscale = 'sqrt', binsize = 8)\n",
    "geoplotlib.set_bbox(BoundingBox.DK)\n",
    "geoplotlib.show()"
   ]
  },
  {
   "cell_type": "code",
   "execution_count": 7,
   "metadata": {},
   "outputs": [],
   "source": [
    "# Pontos e Labels no Mapa\n",
    "from geoplotlib.colors import colorbrewer\n",
    "from geoplotlib.utils import epoch_to_str, BoundingBox, read_csv\n",
    "\n",
    "data = read_csv('data/metro.csv')\n",
    "geoplotlib.dot(data, 'r')\n",
    "geoplotlib.labels(data, 'name', color = [0,0,255,255], font_size = 10, anchor_x = 'center')\n",
    "geoplotlib.set_bbox(BoundingBox.KBH)\n",
    "geoplotlib.show()"
   ]
  },
  {
   "cell_type": "code",
   "execution_count": 8,
   "metadata": {},
   "outputs": [],
   "source": [
    "# Triangulação - delaunay\n",
    "from geoplotlib.layers import DelaunayLayer\n",
    "from geoplotlib.utils import read_csv, BoundingBox\n",
    "\n",
    "data = read_csv('data/bus.csv')\n",
    "geoplotlib.delaunay(data, cmap='hot_r')\n",
    "geoplotlib.set_bbox(BoundingBox.DK)\n",
    "geoplotlib.set_smoothing(True)\n",
    "geoplotlib.show()"
   ]
  },
  {
   "cell_type": "code",
   "execution_count": 9,
   "metadata": {},
   "outputs": [],
   "source": [
    "# Spatial Graph\n",
    "from geoplotlib.utils import read_csv\n",
    "\n",
    "data = read_csv('data/flights.csv')\n",
    "geoplotlib.graph(data,\n",
    "                 src_lat = 'lat_departure',\n",
    "                 src_lon = 'lon_departure',\n",
    "                 dest_lat = 'lat_arrival',\n",
    "                 dest_lon = 'lon_arrival',\n",
    "                 color = 'hot_r',\n",
    "                 alpha = 16,\n",
    "                 linewidth = 2)\n",
    "geoplotlib.show()"
   ]
  },
  {
   "cell_type": "code",
   "execution_count": 10,
   "metadata": {},
   "outputs": [],
   "source": [
    "# Choropleth\n",
    "# Versão D3.js: https://bl.ocks.org/mbostock/4060606\n",
    "\n",
    "from geoplotlib.utils import BoundingBox\n",
    "from geoplotlib.colors import ColorMap\n",
    "import json\n",
    "\n",
    "\n",
    "# Taxa de desemprego através do país\n",
    "def get_color(properties):\n",
    "    key = str(int(properties['STATE'])) + properties['COUNTY']\n",
    "    if key in unemployment:\n",
    "        return cmap.to_color(unemployment.get(key), .15, 'lin')\n",
    "    else:\n",
    "        return [0, 0, 0, 0]\n",
    "\n",
    "\n",
    "with open('data/unemployment.json') as fin:\n",
    "    unemployment = json.load(fin)\n",
    "\n",
    "cmap = ColorMap('Blues', alpha=255, levels=10)\n",
    "geoplotlib.geojson('data/gz_2010_us_050_00_20m.json', fill = True, color = get_color, f_tooltip = lambda properties: properties['NAME'])\n",
    "geoplotlib.geojson('data/gz_2010_us_050_00_20m.json', fill = False, color = [255, 255, 255, 64])\n",
    "geoplotlib.set_bbox(BoundingBox.USA)\n",
    "geoplotlib.show()"
   ]
  },
  {
   "cell_type": "code",
   "execution_count": 11,
   "metadata": {},
   "outputs": [],
   "source": [
    "# Interação no Mapa através do teclado\n",
    "import numpy as np\n",
    "import pyglet\n",
    "from geoplotlib.colors import create_set_cmap\n",
    "from sklearn.cluster import KMeans\n",
    "from geoplotlib.layers import BaseLayer\n",
    "from geoplotlib.core import BatchPainter\n",
    "from geoplotlib.utils import BoundingBox\n",
    "\n",
    "class KMeansLayer(BaseLayer):\n",
    "\n",
    "    def __init__(self, data):\n",
    "        self.data = data\n",
    "        self.k = 2\n",
    "\n",
    "\n",
    "    def invalidate(self, proj):\n",
    "        self.painter = BatchPainter()\n",
    "        x, y = proj.lonlat_to_screen(self.data['lon'], self.data['lat'])\n",
    "\n",
    "        k_means = KMeans(n_clusters=self.k)\n",
    "        k_means.fit(np.vstack([x,y]).T)\n",
    "        labels = k_means.labels_\n",
    "\n",
    "        self.cmap = create_set_cmap(set(labels), 'hsv')\n",
    "        for l in set(labels):\n",
    "            self.painter.set_color(self.cmap[l])\n",
    "            self.painter.convexhull(x[labels == l], y[labels == l])\n",
    "            self.painter.points(x[labels == l], y[labels == l], 2)\n",
    "    \n",
    "            \n",
    "    def draw(self, proj, mouse_x, mouse_y, ui_manager):\n",
    "        ui_manager.info('Use esquerda e direita para aumentar / diminuir o número de clusters. k = %d' % self.k)\n",
    "        self.painter.batch_draw()\n",
    "\n",
    "\n",
    "    def on_key_release(self, key, modifiers):\n",
    "        if key == pyglet.window.key.LEFT:\n",
    "            self.k = max(2,self.k - 1)\n",
    "            return True\n",
    "        elif key == pyglet.window.key.RIGHT:\n",
    "            self.k = self.k + 1\n",
    "            return True\n",
    "        return False\n",
    "  \n",
    "\n",
    "data = geoplotlib.utils.read_csv('data/bus.csv')\n",
    "geoplotlib.add_layer(KMeansLayer(data))\n",
    "geoplotlib.set_smoothing(True)\n",
    "geoplotlib.set_bbox(geoplotlib.utils.BoundingBox.DK)\n",
    "geoplotlib.show()"
   ]
  },
  {
   "cell_type": "code",
   "execution_count": 12,
   "metadata": {},
   "outputs": [],
   "source": [
    "# Gráfico Animado com o percurso de um táxi\n",
    "from geoplotlib.layers import BaseLayer\n",
    "from geoplotlib.core import BatchPainter\n",
    "from geoplotlib.utils import epoch_to_str, BoundingBox, read_csv\n",
    "\n",
    "class TrailsLayer(BaseLayer):\n",
    "\n",
    "    def __init__(self):\n",
    "        self.data = read_csv('data/taxi.csv')\n",
    "        self.data = self.data.where(self.data['taxi_id'] == list(set(self.data['taxi_id']))[2])\n",
    "        self.t = self.data['timestamp'].min()\n",
    "        self.painter = BatchPainter()\n",
    "\n",
    "\n",
    "    def draw(self, proj, mouse_x, mouse_y, ui_manager):\n",
    "        self.painter = BatchPainter()\n",
    "        self.painter.set_color([0,0,255])\n",
    "        df = self.data.where((self.data['timestamp'] > self.t) & (self.data['timestamp'] <= self.t + 30*60))\n",
    "        proj.fit(BoundingBox.from_points(lons=df['lon'], lats=df['lat']), max_zoom=14)\n",
    "        x, y = proj.lonlat_to_screen(df['lon'], df['lat'])\n",
    "        self.painter.linestrip(x, y, 10)\n",
    "        self.t += 30\n",
    "        if self.t > self.data['timestamp'].max():\n",
    "            self.t = self.data['timestamp'].min()\n",
    "\n",
    "        self.painter.batch_draw()\n",
    "        ui_manager.info(epoch_to_str(self.t))\n",
    "\n",
    "\n",
    "geoplotlib.add_layer(TrailsLayer())\n",
    "geoplotlib.show()"
   ]
  },
  {
   "cell_type": "code",
   "execution_count": 13,
   "metadata": {},
   "outputs": [],
   "source": [
    "# Mapa com animação das linhas do metro\n",
    "from geoplotlib.layers import BaseLayer\n",
    "from geoplotlib.core import BatchPainter\n",
    "import geoplotlib\n",
    "from geoplotlib.colors import colorbrewer\n",
    "from geoplotlib.utils import epoch_to_str, BoundingBox, read_csv\n",
    "\n",
    "\n",
    "class TrailsLayer(BaseLayer):\n",
    "\n",
    "    def __init__(self):\n",
    "        self.data = read_csv('data/taxi.csv')\n",
    "        self.cmap = colorbrewer(self.data['taxi_id'], alpha=220)\n",
    "        self.t = self.data['timestamp'].min()\n",
    "        self.painter = BatchPainter()\n",
    "\n",
    "\n",
    "    def draw(self, proj, mouse_x, mouse_y, ui_manager):\n",
    "        self.painter = BatchPainter()\n",
    "        df = self.data.where((self.data['timestamp'] > self.t) & (self.data['timestamp'] <= self.t + 15*60))\n",
    "\n",
    "        for taxi_id in set(df['taxi_id']):\n",
    "            grp = df.where(df['taxi_id'] == taxi_id)\n",
    "            self.painter.set_color(self.cmap[taxi_id])\n",
    "            x, y = proj.lonlat_to_screen(grp['lon'], grp['lat'])\n",
    "            self.painter.points(x, y, 10)\n",
    "\n",
    "        self.t += 2*60\n",
    "\n",
    "        if self.t > self.data['timestamp'].max():\n",
    "            self.t = self.data['timestamp'].min()\n",
    "\n",
    "        self.painter.batch_draw()\n",
    "        ui_manager.info(epoch_to_str(self.t))\n",
    "\n",
    "\n",
    "    def bbox(self):\n",
    "        return BoundingBox(north=40.110222, west=115.924463, south=39.705711, east=116.803369)\n",
    "\n",
    "\n",
    "geoplotlib.add_layer(TrailsLayer())\n",
    "geoplotlib.show()"
   ]
  },
  {
   "cell_type": "code",
   "execution_count": 14,
   "metadata": {},
   "outputs": [
    {
     "name": "stdout",
     "output_type": "stream",
     "text": [
      "0 9904\n"
     ]
    }
   ],
   "source": [
    "# Quadtree\n",
    "import numpy as np\n",
    "from geoplotlib.layers import BaseLayer\n",
    "from geoplotlib.core import BatchPainter\n",
    "from geoplotlib.utils import BoundingBox\n",
    "\n",
    "\n",
    "class QuadTree:\n",
    "\n",
    "    def __init__(self, left, right, top, bottom):\n",
    "        self.left = left\n",
    "        self.right = right\n",
    "        self.top = top\n",
    "        self.bottom = bottom\n",
    "\n",
    "\n",
    "    def split(self):\n",
    "        middle_x = (self.left + self.right) / 2.\n",
    "        middle_y = (self.top + self.bottom) / 2.\n",
    "        return [QuadTree(self.left, middle_x, self.top, middle_y),\n",
    "                QuadTree(middle_x, self.right, self.top, middle_y),\n",
    "                QuadTree(self.left, middle_x, middle_y, self.bottom),\n",
    "                QuadTree(middle_x, self.right, middle_y, self.bottom)]\n",
    "\n",
    "\n",
    "    def can_split(self, x, y):\n",
    "        if self.right - self.left < 4:\n",
    "            return False\n",
    "\n",
    "        mask = (x > self.left) & (x < self.right) & (y > self.bottom) & (y < self.top)\n",
    "        return mask.any()\n",
    "\n",
    "\n",
    "    def __repr__(self):\n",
    "        return '(%.2f,%.2f,%.2f,%.2f)' % (self.left, self.right, self.top, self.bottom)\n",
    "\n",
    "\n",
    "class QuadsLayer(BaseLayer):\n",
    "\n",
    "    def __init__(self, data, cmap='hot_r'):\n",
    "        self.data = data\n",
    "        if cmap is not None:\n",
    "            self.cmap = geoplotlib.colors.ColorMap(cmap, alpha=196)\n",
    "        else:\n",
    "            self.cmap = None\n",
    "            \n",
    "\n",
    "    def invalidate(self, proj):\n",
    "        self.painter = BatchPainter()\n",
    "        x, y = proj.lonlat_to_screen(self.data['lon'], self.data['lat'])\n",
    "        \n",
    "        w = x.max() - x.min()\n",
    "        h = y.max() - y.min()\n",
    "        w = np.ceil(w / 2) * 2\n",
    "        h = np.ceil(h / 2) * 2\n",
    "        l = max(w, h)\n",
    "        \n",
    "        root = QuadTree(x.min(), x.min() + l, y.min() + l, y.min())\n",
    "        maxarea = (root.right - root.left) * (root.top - root.bottom)\n",
    "        queue = [root]\n",
    "        done = []\n",
    "        while len(queue) > 0:\n",
    "            qt = queue.pop()\n",
    "            if qt.can_split(x, y):\n",
    "                queue.extend(qt.split())\n",
    "            else:\n",
    "                done.append(qt)\n",
    "        \n",
    "        print (len(queue), len(done))\n",
    "\n",
    "        if self.cmap is not None:\n",
    "            for qt in done:\n",
    "                area = (qt.right - qt.left) * (qt.top - qt.bottom)\n",
    "                self.painter.set_color(self.cmap.to_color(1 + area, 1 + maxarea, 'log'))\n",
    "                self.painter.rect(qt.left, qt.top, qt.right, qt.bottom)\n",
    "        else:\n",
    "            for qt in done:\n",
    "                self.painter.linestrip([qt.left, qt.right, qt.right, qt.left],\n",
    "                                       [qt.top, qt.top, qt.bottom, qt.bottom], closed=True)\n",
    "    \n",
    "            \n",
    "    def draw(self, proj, mouse_x, mouse_y, ui_manager):\n",
    "        self.painter.batch_draw()\n",
    "  \n",
    "\n",
    "data = geoplotlib.utils.read_csv('data/bus.csv')\n",
    "geoplotlib.add_layer(QuadsLayer(data, cmap=None))\n",
    "geoplotlib.set_smoothing(False)\n",
    "geoplotlib.set_bbox(geoplotlib.utils.BoundingBox.DK)\n",
    "geoplotlib.show()"
   ]
  },
  {
   "cell_type": "markdown",
   "metadata": {},
   "source": [
    "## FIM"
   ]
  }
 ],
 "metadata": {
  "anaconda-cloud": {},
  "kernelspec": {
   "display_name": "Python 3",
   "language": "python",
   "name": "python3"
  },
  "language_info": {
   "codemirror_mode": {
    "name": "ipython",
    "version": 3
   },
   "file_extension": ".py",
   "mimetype": "text/x-python",
   "name": "python",
   "nbconvert_exporter": "python",
   "pygments_lexer": "ipython3",
   "version": "3.6.5"
  }
 },
 "nbformat": 4,
 "nbformat_minor": 1
}
