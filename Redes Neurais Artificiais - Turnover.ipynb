{
 "cells": [
  {
   "cell_type": "code",
   "execution_count": null,
   "metadata": {
    "collapsed": true
   },
   "outputs": [],
   "source": [
    "## REDES NEURAIS ARTIFICIAIS"
   ]
  },
  {
   "cell_type": "code",
   "execution_count": null,
   "metadata": {
    "collapsed": true
   },
   "outputs": [],
   "source": [
    "#redes neurais artificiais\n",
    "#deep learning usando o python\n",
    "#vamos importar os dados de tipo de vinho, branco e tinto\n",
    "#vamos importar direto do site, muito legal"
   ]
  },
  {
   "cell_type": "code",
   "execution_count": 1,
   "metadata": {
    "collapsed": true
   },
   "outputs": [],
   "source": [
    "import pandas as pd\n",
    "import sklearn\n",
    "padrao=pd.read_excel(\"C:/Users/Usuário/Desktop/base_final0_dummy.xlsx\", engine='openpyxl')\n",
    "desligados=pd.read_excel(\"C:/Users/Usuário/Desktop/base_final1_dummy.xlsx\", engine='openpyxl')\n",
    "teste=pd.read_excel(\"C:/Users/Usuário/Desktop/Base SA _ para ser prevista_dummy.xlsx\", engine='openpyxl')"
   ]
  },
  {
   "cell_type": "code",
   "execution_count": 2,
   "metadata": {
    "collapsed": true
   },
   "outputs": [],
   "source": [
    "# a linha abaixo só funciona se eu tiver instalado o numpy pip versão 1.16.4\n",
    "# ou seja, garanta que você já rodou no prompt de comando o seguinte código: pip install numpy==1.16.4\n",
    "from sklearn.model_selection import train_test_split"
   ]
  },
  {
   "cell_type": "code",
   "execution_count": null,
   "metadata": {
    "collapsed": true
   },
   "outputs": [],
   "source": [
    "#vamos criar a variável que vai separar identificar se o vinho é branco ou tinto"
   ]
  },
  {
   "cell_type": "code",
   "execution_count": 3,
   "metadata": {
    "collapsed": true
   },
   "outputs": [],
   "source": [
    "desligados['Desligados']=1\n",
    "padrao['Desligados']=0"
   ]
  },
  {
   "cell_type": "code",
   "execution_count": null,
   "metadata": {
    "collapsed": true
   },
   "outputs": [],
   "source": [
    "#agora vamos juntar as duas bases de dados, lembrando de separar entre as variáveis as independentes e dependentes\n",
    "#sendo que as primeiras 16 são as independentes e a última que eu criei, \"Desligados\" é a dependente"
   ]
  },
  {
   "cell_type": "code",
   "execution_count": 4,
   "metadata": {
    "collapsed": true
   },
   "outputs": [],
   "source": [
    "base=desligados.append(padrao,ignore_index=True)\n",
    "X=base.iloc[:,0:8]\n",
    "import numpy as np\n",
    "y=np.ravel(base.Desligados)"
   ]
  },
  {
   "cell_type": "code",
   "execution_count": null,
   "metadata": {
    "collapsed": true
   },
   "outputs": [],
   "source": [
    "#agora eunão vou separar entre treino e teste, vou pegar a base que estou usando como treino e pegar a base de SA como teste"
   ]
  },
  {
   "cell_type": "code",
   "execution_count": 5,
   "metadata": {
    "collapsed": true
   },
   "outputs": [],
   "source": [
    "#X_train,X_test,y_train,y_test=train_test_split(X,y,test_size=0.33,random_state=42)\n",
    "X_train=X\n",
    "y_train=y\n",
    "X_test=teste.iloc[:,0:8]\n",
    "y_test=np.ravel(teste.Desligados)"
   ]
  },
  {
   "cell_type": "code",
   "execution_count": 6,
   "metadata": {},
   "outputs": [
    {
     "data": {
      "text/html": [
       "<div>\n",
       "<style scoped>\n",
       "    .dataframe tbody tr th:only-of-type {\n",
       "        vertical-align: middle;\n",
       "    }\n",
       "\n",
       "    .dataframe tbody tr th {\n",
       "        vertical-align: top;\n",
       "    }\n",
       "\n",
       "    .dataframe thead th {\n",
       "        text-align: right;\n",
       "    }\n",
       "</style>\n",
       "<table border=\"1\" class=\"dataframe\">\n",
       "  <thead>\n",
       "    <tr style=\"text-align: right;\">\n",
       "      <th></th>\n",
       "      <th>ID</th>\n",
       "      <th>BASF Tenure</th>\n",
       "      <th>BASF Job Grade</th>\n",
       "      <th>Ordem age range</th>\n",
       "      <th>Ordem Tenure</th>\n",
       "      <th>Male</th>\n",
       "      <th>Brasil</th>\n",
       "      <th>Lider</th>\n",
       "    </tr>\n",
       "  </thead>\n",
       "  <tbody>\n",
       "    <tr>\n",
       "      <th>0</th>\n",
       "      <td>37011502</td>\n",
       "      <td>17</td>\n",
       "      <td>5.2</td>\n",
       "      <td>7</td>\n",
       "      <td>6</td>\n",
       "      <td>0</td>\n",
       "      <td>0</td>\n",
       "      <td>1</td>\n",
       "    </tr>\n",
       "    <tr>\n",
       "      <th>1</th>\n",
       "      <td>37023641</td>\n",
       "      <td>8</td>\n",
       "      <td>5.1</td>\n",
       "      <td>7</td>\n",
       "      <td>4</td>\n",
       "      <td>1</td>\n",
       "      <td>0</td>\n",
       "      <td>1</td>\n",
       "    </tr>\n",
       "    <tr>\n",
       "      <th>2</th>\n",
       "      <td>37025878</td>\n",
       "      <td>8</td>\n",
       "      <td>5.2</td>\n",
       "      <td>7</td>\n",
       "      <td>4</td>\n",
       "      <td>1</td>\n",
       "      <td>1</td>\n",
       "      <td>1</td>\n",
       "    </tr>\n",
       "    <tr>\n",
       "      <th>3</th>\n",
       "      <td>37028083</td>\n",
       "      <td>7</td>\n",
       "      <td>4.1</td>\n",
       "      <td>6</td>\n",
       "      <td>4</td>\n",
       "      <td>1</td>\n",
       "      <td>0</td>\n",
       "      <td>0</td>\n",
       "    </tr>\n",
       "    <tr>\n",
       "      <th>4</th>\n",
       "      <td>37007063</td>\n",
       "      <td>14</td>\n",
       "      <td>6.1</td>\n",
       "      <td>6</td>\n",
       "      <td>5</td>\n",
       "      <td>0</td>\n",
       "      <td>1</td>\n",
       "      <td>1</td>\n",
       "    </tr>\n",
       "  </tbody>\n",
       "</table>\n",
       "</div>"
      ],
      "text/plain": [
       "         ID  BASF Tenure  BASF Job Grade  Ordem age range  Ordem Tenure  Male  \\\n",
       "0  37011502           17             5.2                7             6     0   \n",
       "1  37023641            8             5.1                7             4     1   \n",
       "2  37025878            8             5.2                7             4     1   \n",
       "3  37028083            7             4.1                6             4     1   \n",
       "4  37007063           14             6.1                6             5     0   \n",
       "\n",
       "   Brasil  Lider  \n",
       "0       0      1  \n",
       "1       0      1  \n",
       "2       1      1  \n",
       "3       0      0  \n",
       "4       1      1  "
      ]
     },
     "execution_count": 6,
     "metadata": {},
     "output_type": "execute_result"
    }
   ],
   "source": [
    "X_train.head()"
   ]
  },
  {
   "cell_type": "code",
   "execution_count": 7,
   "metadata": {},
   "outputs": [
    {
     "data": {
      "text/plain": [
       "array([1, 1, 1, 1, 1, 1, 1, 1, 1, 1, 1, 1, 1, 1, 1, 1, 1, 1, 1, 1, 1, 1,\n",
       "       1, 0, 0, 0, 0, 0, 0, 0, 0, 0, 0, 0, 0, 0, 0, 0, 0, 0, 0, 0, 0, 0,\n",
       "       0, 0, 0, 0, 0, 0, 0, 0, 0, 0, 0, 0, 0, 0, 0, 0, 0, 0, 0, 0, 0, 0,\n",
       "       0, 0, 0, 0, 0, 0, 0, 0, 0, 0, 0, 0, 0, 0, 0, 0, 0, 0, 0, 0, 0, 0,\n",
       "       0, 0, 0, 0, 0, 0, 0, 0, 0, 0, 0, 0, 0, 0, 0, 0, 0, 0, 0, 0, 0, 0,\n",
       "       0, 0, 0, 0, 0, 0, 0, 0, 0, 0, 0, 0, 0, 0, 0, 0, 0, 0, 0, 0, 0, 0,\n",
       "       0, 0, 0, 0, 0, 0, 0, 0, 0, 0, 0, 0, 0, 0, 0, 0, 0, 0, 0, 0, 0, 0,\n",
       "       0, 0, 0, 0, 0, 0, 0, 0, 0, 0, 0, 0, 0, 0, 0, 0, 0, 0, 0, 0, 0, 0,\n",
       "       0, 0, 0, 0, 0, 0, 0, 0, 0, 0, 0, 0, 0, 0, 0, 0, 0, 0, 0, 0, 0, 0,\n",
       "       0, 0, 0, 0, 0, 0, 0, 0, 0, 0, 0, 0, 0, 0, 0, 0, 0, 0, 0, 0, 0, 0,\n",
       "       0, 0, 0, 0, 0, 0, 0, 0, 0, 0, 0, 0, 0, 0, 0, 0, 0, 0, 0, 0, 0, 0,\n",
       "       0, 0, 0, 0, 0, 0, 0, 0, 0, 0, 0, 0, 0, 0, 0, 0, 0, 0, 0, 0, 0, 0,\n",
       "       0, 0, 0, 0, 0, 0, 0, 0, 0, 0, 0, 0, 0, 0, 0, 0, 0, 0, 0, 0, 0, 0,\n",
       "       0, 0, 0, 0, 0, 0, 0, 0, 0, 0, 0, 0, 0, 0, 0, 0, 0, 0, 0, 0, 0, 0,\n",
       "       0, 0, 0, 0, 0, 0, 0, 0, 0, 0, 0, 0, 0, 0, 0, 0, 0, 0, 0, 0, 0, 0,\n",
       "       0, 0, 0, 0, 0, 0, 0, 0, 0, 0, 0, 0, 0, 0, 0, 0], dtype=int64)"
      ]
     },
     "execution_count": 7,
     "metadata": {},
     "output_type": "execute_result"
    }
   ],
   "source": [
    "y_train"
   ]
  },
  {
   "cell_type": "code",
   "execution_count": 8,
   "metadata": {},
   "outputs": [
    {
     "data": {
      "text/html": [
       "<div>\n",
       "<style scoped>\n",
       "    .dataframe tbody tr th:only-of-type {\n",
       "        vertical-align: middle;\n",
       "    }\n",
       "\n",
       "    .dataframe tbody tr th {\n",
       "        vertical-align: top;\n",
       "    }\n",
       "\n",
       "    .dataframe thead th {\n",
       "        text-align: right;\n",
       "    }\n",
       "</style>\n",
       "<table border=\"1\" class=\"dataframe\">\n",
       "  <thead>\n",
       "    <tr style=\"text-align: right;\">\n",
       "      <th></th>\n",
       "      <th>ID</th>\n",
       "      <th>BASF Tenure</th>\n",
       "      <th>BASF Job Grade</th>\n",
       "      <th>Ordem age range</th>\n",
       "      <th>Ordem Tenure</th>\n",
       "      <th>Male</th>\n",
       "      <th>Brasil</th>\n",
       "      <th>Lider</th>\n",
       "    </tr>\n",
       "  </thead>\n",
       "  <tbody>\n",
       "    <tr>\n",
       "      <th>0</th>\n",
       "      <td>37001986</td>\n",
       "      <td>27</td>\n",
       "      <td>6.2</td>\n",
       "      <td>9</td>\n",
       "      <td>7</td>\n",
       "      <td>1</td>\n",
       "      <td>1</td>\n",
       "      <td>1</td>\n",
       "    </tr>\n",
       "    <tr>\n",
       "      <th>1</th>\n",
       "      <td>37003084</td>\n",
       "      <td>23</td>\n",
       "      <td>5.2</td>\n",
       "      <td>8</td>\n",
       "      <td>7</td>\n",
       "      <td>1</td>\n",
       "      <td>1</td>\n",
       "      <td>1</td>\n",
       "    </tr>\n",
       "    <tr>\n",
       "      <th>2</th>\n",
       "      <td>37003442</td>\n",
       "      <td>22</td>\n",
       "      <td>5.2</td>\n",
       "      <td>7</td>\n",
       "      <td>7</td>\n",
       "      <td>1</td>\n",
       "      <td>1</td>\n",
       "      <td>1</td>\n",
       "    </tr>\n",
       "    <tr>\n",
       "      <th>3</th>\n",
       "      <td>37004178</td>\n",
       "      <td>21</td>\n",
       "      <td>6.2</td>\n",
       "      <td>8</td>\n",
       "      <td>7</td>\n",
       "      <td>1</td>\n",
       "      <td>1</td>\n",
       "      <td>1</td>\n",
       "    </tr>\n",
       "    <tr>\n",
       "      <th>4</th>\n",
       "      <td>37005391</td>\n",
       "      <td>20</td>\n",
       "      <td>5.2</td>\n",
       "      <td>7</td>\n",
       "      <td>6</td>\n",
       "      <td>0</td>\n",
       "      <td>1</td>\n",
       "      <td>1</td>\n",
       "    </tr>\n",
       "  </tbody>\n",
       "</table>\n",
       "</div>"
      ],
      "text/plain": [
       "         ID  BASF Tenure  BASF Job Grade  Ordem age range  Ordem Tenure  Male  \\\n",
       "0  37001986           27             6.2                9             7     1   \n",
       "1  37003084           23             5.2                8             7     1   \n",
       "2  37003442           22             5.2                7             7     1   \n",
       "3  37004178           21             6.2                8             7     1   \n",
       "4  37005391           20             5.2                7             6     0   \n",
       "\n",
       "   Brasil  Lider  \n",
       "0       1      1  \n",
       "1       1      1  \n",
       "2       1      1  \n",
       "3       1      1  \n",
       "4       1      1  "
      ]
     },
     "execution_count": 8,
     "metadata": {},
     "output_type": "execute_result"
    }
   ],
   "source": [
    "X_test.head()"
   ]
  },
  {
   "cell_type": "code",
   "execution_count": 9,
   "metadata": {},
   "outputs": [
    {
     "data": {
      "text/plain": [
       "array([0, 0, 0, 0, 0, 0, 0, 0, 0, 0, 0, 0, 0, 0, 0, 0, 0, 0, 0, 0, 0, 0,\n",
       "       0, 0, 0, 0, 0, 0, 0, 0, 0, 0, 0, 0, 0, 0, 0, 0, 0, 0, 0, 0, 0, 0,\n",
       "       0, 0, 0, 0, 0, 0, 0, 0, 0, 0, 0, 0, 0, 0, 0, 0, 0, 0, 0, 0, 0, 0,\n",
       "       0, 0, 0, 0, 0, 0, 0, 0, 0, 0, 0, 0, 0, 0, 0, 0, 0, 0, 0, 0, 0, 0,\n",
       "       0, 0, 0, 0, 0, 0, 0, 0, 0, 0, 0, 0, 0, 0, 0, 0, 0, 0, 0, 0],\n",
       "      dtype=int64)"
      ]
     },
     "execution_count": 9,
     "metadata": {},
     "output_type": "execute_result"
    }
   ],
   "source": [
    "y_test"
   ]
  },
  {
   "cell_type": "code",
   "execution_count": 6,
   "metadata": {
    "collapsed": true
   },
   "outputs": [],
   "source": [
    "#no comando abaixo iríamos padronizar as variáveis (tive que deletar todos osmissing, ou seja, perdemos umas 2 observações)"
   ]
  },
  {
   "cell_type": "code",
   "execution_count": 10,
   "metadata": {
    "collapsed": true
   },
   "outputs": [],
   "source": [
    "from sklearn.preprocessing import StandardScaler\n",
    "scaler=StandardScaler().fit(X_train)\n",
    "X_train=scaler.transform(X_train)\n",
    "X_test=scaler.transform(X_test)"
   ]
  },
  {
   "cell_type": "code",
   "execution_count": null,
   "metadata": {
    "collapsed": true
   },
   "outputs": [],
   "source": [
    "#vamos agora fazer o modelo\n",
    "#vamos utilizar a matriz de ativação relu, que é a mais comumenten utilizada\n",
    "#vamos utilizar Sequential() para passar um conjunto de camadas para nossa rede neural\n",
    "#para determinar as camadas que vamos ter no modelo configuramos os\n",
    "#parâmetros input_shape,input_dim,input_length ou batch_size\n",
    "#por meio da função Dense, determinamos cada layer"
   ]
  },
  {
   "cell_type": "code",
   "execution_count": 11,
   "metadata": {
    "collapsed": true
   },
   "outputs": [],
   "source": [
    "from keras.models import Sequential\n",
    "from keras.layers import Dense\n",
    "model=Sequential()"
   ]
  },
  {
   "cell_type": "code",
   "execution_count": null,
   "metadata": {
    "collapsed": true
   },
   "outputs": [],
   "source": [
    "#vamos determinar nossa primeira camada (input): dimensão 9 "
   ]
  },
  {
   "cell_type": "code",
   "execution_count": 12,
   "metadata": {
    "collapsed": true
   },
   "outputs": [],
   "source": [
    "model.add(Dense(9,activation='relu',input_shape=(8,)))"
   ]
  },
  {
   "cell_type": "code",
   "execution_count": null,
   "metadata": {
    "collapsed": true
   },
   "outputs": [],
   "source": [
    "#vamos determinar nossa segunda camada (intermediate layer): dimensão 7 "
   ]
  },
  {
   "cell_type": "code",
   "execution_count": 13,
   "metadata": {
    "collapsed": true
   },
   "outputs": [],
   "source": [
    "model.add(Dense(7,activation='relu'))"
   ]
  },
  {
   "cell_type": "code",
   "execution_count": 11,
   "metadata": {
    "collapsed": true
   },
   "outputs": [],
   "source": [
    "#vamos determinar nossa terceira camada (output): dimensão 1"
   ]
  },
  {
   "cell_type": "code",
   "execution_count": 14,
   "metadata": {
    "collapsed": true
   },
   "outputs": [],
   "source": [
    "model.add(Dense(1,activation='sigmoid'))"
   ]
  },
  {
   "cell_type": "code",
   "execution_count": null,
   "metadata": {
    "collapsed": true
   },
   "outputs": [],
   "source": [
    "#como vemos, há duas decisões que devem ser tomadas, quantas camadas um modelo\n",
    "#deve ter e o quão densa cada camada deve ser (no nosso caso temos 3 camadas\n",
    "#cada uma com densidade de, respectivamente 9, 7 e 1)\n",
    "#é padrão utilizar como dimensão da camada input (primeira) a dimensão do nosso\n",
    "#dataset (8 variáveis independentes 1 dependente, para não dar overfitting) e como\n",
    "#output (obvio dimensão 1 pois é a nossa variável dependente)\n",
    "#agora vamos compilar o modelo. Vamos utilizar o otimizador adam (mas há outros).\n",
    "#Como estamos tentando prever um valor binário, vamos utilizar o loss=binar_crossentropy\n",
    "#mas se estivessemos tentando prever um valor mult-class, deveríamos utilizar\n",
    "#categorical_crossentropy (fazendo uma analogia, é semelhante ao valor minimizado\n",
    "#quanto utilizamos regressão, que é o Mean Squared Error (MSE))\n",
    "#se eu baixar a biblioteca tensorflow, posso utilizar a seguinte configuração\n",
    "#para fazer a previsão da variável dependente binária como um MQO faría, ou\n",
    "#seja, como probabilidade: horsepower_model.compile(optimizer=tf.optimizers.Adam(learning_rate=0.1),loss='mean_absolute_error')"
   ]
  },
  {
   "cell_type": "code",
   "execution_count": 15,
   "metadata": {
    "collapsed": true
   },
   "outputs": [],
   "source": [
    "model.compile(loss='binary_crossentropy',optimizer='adam',metrics=['accuracy'])"
   ]
  },
  {
   "cell_type": "code",
   "execution_count": null,
   "metadata": {
    "collapsed": true
   },
   "outputs": [],
   "source": [
    "#vamos treinar o modelo com 20 epochs, ou iterações sobre a amostra em X_train e ytrain\n",
    "#epochs=20 indica que o modelo será treinado passando 20 vezes por toda a base de treino\n",
    "#batch_size identifica o número de amostras a serem propagadas pela rede (uma só pois\n",
    "#só estamos utilizando uma base de dados)\n",
    "#o argumento verbose=1 indica que queremos ver em tela as iterações do modelo"
   ]
  },
  {
   "cell_type": "code",
   "execution_count": 16,
   "metadata": {},
   "outputs": [
    {
     "name": "stdout",
     "output_type": "stream",
     "text": [
      "Epoch 1/20\n",
      "346/346 [==============================] - 1s 1ms/step - loss: 0.3681 - accuracy: 0.9306\n",
      "Epoch 2/20\n",
      "346/346 [==============================] - 0s 965us/step - loss: 0.2754 - accuracy: 0.9335\n",
      "Epoch 3/20\n",
      "346/346 [==============================] - 0s 1ms/step - loss: 0.2556 - accuracy: 0.9335\n",
      "Epoch 4/20\n",
      "346/346 [==============================] - 0s 1ms/step - loss: 0.2452 - accuracy: 0.9335\n",
      "Epoch 5/20\n",
      "346/346 [==============================] - 0s 1ms/step - loss: 0.2406 - accuracy: 0.9335\n",
      "Epoch 6/20\n",
      "346/346 [==============================] - 0s 1ms/step - loss: 0.2337 - accuracy: 0.9335\n",
      "Epoch 7/20\n",
      "346/346 [==============================] - 0s 1ms/step - loss: 0.2286 - accuracy: 0.9335\n",
      "Epoch 8/20\n",
      "346/346 [==============================] - 0s 1ms/step - loss: 0.2243 - accuracy: 0.9335\n",
      "Epoch 9/20\n",
      "346/346 [==============================] - 0s 1ms/step - loss: 0.2190 - accuracy: 0.9335\n",
      "Epoch 10/20\n",
      "346/346 [==============================] - 0s 1ms/step - loss: 0.2133 - accuracy: 0.9335\n",
      "Epoch 11/20\n",
      "346/346 [==============================] - 0s 1ms/step - loss: 0.2121 - accuracy: 0.9335\n",
      "Epoch 12/20\n",
      "346/346 [==============================] - 0s 985us/step - loss: 0.2088 - accuracy: 0.9335\n",
      "Epoch 13/20\n",
      "346/346 [==============================] - 0s 1ms/step - loss: 0.2057 - accuracy: 0.9335\n",
      "Epoch 14/20\n",
      "346/346 [==============================] - 0s 970us/step - loss: 0.2029 - accuracy: 0.9335\n",
      "Epoch 15/20\n",
      "346/346 [==============================] - 0s 971us/step - loss: 0.2017 - accuracy: 0.9335\n",
      "Epoch 16/20\n",
      "346/346 [==============================] - 0s 993us/step - loss: 0.2001 - accuracy: 0.9335\n",
      "Epoch 17/20\n",
      "346/346 [==============================] - 0s 991us/step - loss: 0.1983 - accuracy: 0.9335\n",
      "Epoch 18/20\n",
      "346/346 [==============================] - 0s 999us/step - loss: 0.1961 - accuracy: 0.9335\n",
      "Epoch 19/20\n",
      "346/346 [==============================] - 0s 976us/step - loss: 0.1943 - accuracy: 0.9335\n",
      "Epoch 20/20\n",
      "346/346 [==============================] - 0s 990us/step - loss: 0.1937 - accuracy: 0.9335\n"
     ]
    }
   ],
   "source": [
    "model.fit(X_train,y_train,epochs=20,batch_size=1,verbose=1)\n",
    "y_pred=model.predict(X_test)"
   ]
  },
  {
   "cell_type": "code",
   "execution_count": null,
   "metadata": {
    "collapsed": true
   },
   "outputs": [],
   "source": [
    "#y_pred vai nos dar a previsão de cada observação, se é vinho tinto ou branco"
   ]
  },
  {
   "cell_type": "code",
   "execution_count": 17,
   "metadata": {},
   "outputs": [
    {
     "data": {
      "text/plain": [
       "array([[0.02526468],\n",
       "       [0.024721  ],\n",
       "       [0.01126081],\n",
       "       [0.01400596],\n",
       "       [0.0200364 ]], dtype=float32)"
      ]
     },
     "execution_count": 17,
     "metadata": {},
     "output_type": "execute_result"
    }
   ],
   "source": [
    "y_pred[:5]"
   ]
  },
  {
   "cell_type": "code",
   "execution_count": 19,
   "metadata": {},
   "outputs": [
    {
     "data": {
      "text/plain": [
       "array([0, 0, 0, 0, 0], dtype=int64)"
      ]
     },
     "execution_count": 19,
     "metadata": {},
     "output_type": "execute_result"
    }
   ],
   "source": [
    "y_test[:5]"
   ]
  },
  {
   "cell_type": "code",
   "execution_count": null,
   "metadata": {
    "collapsed": true
   },
   "outputs": [],
   "source": [
    "#agora vamos avaliar o modelo"
   ]
  },
  {
   "cell_type": "code",
   "execution_count": 23,
   "metadata": {},
   "outputs": [
    {
     "name": "stdout",
     "output_type": "stream",
     "text": [
      "4/4 [==============================] - 1s 6ms/step - loss: 0.0717 - accuracy: 1.0000\n",
      "[0.07165098190307617, 1.0]\n"
     ]
    }
   ],
   "source": [
    "score=model.evaluate(X_test,y_test,verbose=1)\n",
    "print(score)\n",
    "from sklearn.metrics import confusion_matrix, precision_score, recall_score, f1_score, cohen_kappa_score"
   ]
  },
  {
   "cell_type": "code",
   "execution_count": null,
   "metadata": {
    "collapsed": true
   },
   "outputs": [],
   "source": [
    "#para a matriz de confusão, vamos precisar arredondar os valore"
   ]
  },
  {
   "cell_type": "code",
   "execution_count": 24,
   "metadata": {
    "collapsed": true
   },
   "outputs": [],
   "source": [
    "y_pred=np.rint(y_pred)"
   ]
  },
  {
   "cell_type": "code",
   "execution_count": 25,
   "metadata": {},
   "outputs": [
    {
     "data": {
      "text/plain": [
       "array([[108]])"
      ]
     },
     "execution_count": 25,
     "metadata": {},
     "output_type": "execute_result"
    }
   ],
   "source": [
    "confusion_matrix(y_test,y_pred)"
   ]
  },
  {
   "cell_type": "code",
   "execution_count": 26,
   "metadata": {},
   "outputs": [
    {
     "data": {
      "text/plain": [
       "0.0"
      ]
     },
     "execution_count": 26,
     "metadata": {},
     "output_type": "execute_result"
    }
   ],
   "source": [
    "precision_score(y_test,y_pred)"
   ]
  },
  {
   "cell_type": "code",
   "execution_count": 27,
   "metadata": {},
   "outputs": [
    {
     "data": {
      "text/plain": [
       "0.0"
      ]
     },
     "execution_count": 27,
     "metadata": {},
     "output_type": "execute_result"
    }
   ],
   "source": [
    "recall_score(y_test,y_pred)"
   ]
  },
  {
   "cell_type": "code",
   "execution_count": 28,
   "metadata": {},
   "outputs": [
    {
     "data": {
      "text/plain": [
       "0.0"
      ]
     },
     "execution_count": 28,
     "metadata": {},
     "output_type": "execute_result"
    }
   ],
   "source": [
    "f1_score(y_test,y_pred)"
   ]
  },
  {
   "cell_type": "code",
   "execution_count": 29,
   "metadata": {},
   "outputs": [
    {
     "name": "stderr",
     "output_type": "stream",
     "text": [
      "C:\\Users\\Usuário\\Anaconda3\\lib\\site-packages\\sklearn\\metrics\\classification.py:350: RuntimeWarning: invalid value encountered in true_divide\n",
      "  k = np.sum(w_mat * confusion) / np.sum(w_mat * expected)\n"
     ]
    },
    {
     "data": {
      "text/plain": [
       "nan"
      ]
     },
     "execution_count": 29,
     "metadata": {},
     "output_type": "execute_result"
    }
   ],
   "source": [
    "cohen_kappa_score(y_test,y_pred)"
   ]
  },
  {
   "cell_type": "code",
   "execution_count": null,
   "metadata": {
    "collapsed": true
   },
   "outputs": [],
   "source": [
    "#agora, para prever a probabilidade de pertencer à categoria 1 ao invés dos valores 0 ou 1, temos que fazer algumas mudanças"
   ]
  },
  {
   "cell_type": "code",
   "execution_count": 30,
   "metadata": {},
   "outputs": [
    {
     "name": "stdout",
     "output_type": "stream",
     "text": [
      "Epoch 1/100\n",
      "11/11 [==============================] - 1s 56ms/step - loss: 0.8019 - accuracy: 0.2543 - val_loss: 0.7433 - val_accuracy: 0.4259\n",
      "Epoch 2/100\n",
      "11/11 [==============================] - 0s 26ms/step - loss: 0.7016 - accuracy: 0.5809 - val_loss: 0.6488 - val_accuracy: 0.7315\n",
      "Epoch 3/100\n",
      "11/11 [==============================] - 0s 35ms/step - loss: 0.6243 - accuracy: 0.7630 - val_loss: 0.5731 - val_accuracy: 0.9074\n",
      "Epoch 4/100\n",
      "11/11 [==============================] - 0s 40ms/step - loss: 0.5629 - accuracy: 0.9046 - val_loss: 0.5099 - val_accuracy: 0.9815\n",
      "Epoch 5/100\n",
      "11/11 [==============================] - 0s 32ms/step - loss: 0.5128 - accuracy: 0.9277 - val_loss: 0.4576 - val_accuracy: 1.0000\n",
      "Epoch 6/100\n",
      "11/11 [==============================] - 0s 43ms/step - loss: 0.4721 - accuracy: 0.9335 - val_loss: 0.4134 - val_accuracy: 1.0000\n",
      "Epoch 7/100\n",
      "11/11 [==============================] - 0s 4ms/step - loss: 0.4383 - accuracy: 0.9335 - val_loss: 0.3756 - val_accuracy: 1.0000\n",
      "Epoch 8/100\n",
      "11/11 [==============================] - 0s 5ms/step - loss: 0.4099 - accuracy: 0.9335 - val_loss: 0.3429 - val_accuracy: 1.0000\n",
      "Epoch 9/100\n",
      "11/11 [==============================] - 0s 4ms/step - loss: 0.3860 - accuracy: 0.9335 - val_loss: 0.3146 - val_accuracy: 1.0000\n",
      "Epoch 10/100\n",
      "11/11 [==============================] - 0s 4ms/step - loss: 0.3659 - accuracy: 0.9335 - val_loss: 0.2901 - val_accuracy: 1.0000\n",
      "Epoch 11/100\n",
      "11/11 [==============================] - 0s 4ms/step - loss: 0.3489 - accuracy: 0.9335 - val_loss: 0.2687 - val_accuracy: 1.0000\n",
      "Epoch 12/100\n",
      "11/11 [==============================] - 0s 4ms/step - loss: 0.3343 - accuracy: 0.9335 - val_loss: 0.2500 - val_accuracy: 1.0000\n",
      "Epoch 13/100\n",
      "11/11 [==============================] - 0s 4ms/step - loss: 0.3218 - accuracy: 0.9335 - val_loss: 0.2333 - val_accuracy: 1.0000\n",
      "Epoch 14/100\n",
      "11/11 [==============================] - 0s 4ms/step - loss: 0.3110 - accuracy: 0.9335 - val_loss: 0.2186 - val_accuracy: 1.0000\n",
      "Epoch 15/100\n",
      "11/11 [==============================] - 0s 4ms/step - loss: 0.3017 - accuracy: 0.9335 - val_loss: 0.2055 - val_accuracy: 1.0000\n",
      "Epoch 16/100\n",
      "11/11 [==============================] - 0s 4ms/step - loss: 0.2936 - accuracy: 0.9335 - val_loss: 0.1938 - val_accuracy: 1.0000\n",
      "Epoch 17/100\n",
      "11/11 [==============================] - 0s 4ms/step - loss: 0.2867 - accuracy: 0.9335 - val_loss: 0.1836 - val_accuracy: 1.0000\n",
      "Epoch 18/100\n",
      "11/11 [==============================] - 0s 4ms/step - loss: 0.2807 - accuracy: 0.9335 - val_loss: 0.1743 - val_accuracy: 1.0000\n",
      "Epoch 19/100\n",
      "11/11 [==============================] - 0s 4ms/step - loss: 0.2755 - accuracy: 0.9335 - val_loss: 0.1664 - val_accuracy: 1.0000\n",
      "Epoch 20/100\n",
      "11/11 [==============================] - 0s 4ms/step - loss: 0.2709 - accuracy: 0.9335 - val_loss: 0.1590 - val_accuracy: 1.0000\n",
      "Epoch 21/100\n",
      "11/11 [==============================] - 0s 4ms/step - loss: 0.2669 - accuracy: 0.9335 - val_loss: 0.1523 - val_accuracy: 1.0000\n",
      "Epoch 22/100\n",
      "11/11 [==============================] - 0s 5ms/step - loss: 0.2634 - accuracy: 0.9335 - val_loss: 0.1464 - val_accuracy: 1.0000\n",
      "Epoch 23/100\n",
      "11/11 [==============================] - 0s 5ms/step - loss: 0.2603 - accuracy: 0.9335 - val_loss: 0.1412 - val_accuracy: 1.0000\n",
      "Epoch 24/100\n",
      "11/11 [==============================] - 0s 4ms/step - loss: 0.2576 - accuracy: 0.9335 - val_loss: 0.1364 - val_accuracy: 1.0000\n",
      "Epoch 25/100\n",
      "11/11 [==============================] - 0s 4ms/step - loss: 0.2551 - accuracy: 0.9335 - val_loss: 0.1320 - val_accuracy: 1.0000\n",
      "Epoch 26/100\n",
      "11/11 [==============================] - 0s 4ms/step - loss: 0.2530 - accuracy: 0.9335 - val_loss: 0.1280 - val_accuracy: 1.0000\n",
      "Epoch 27/100\n",
      "11/11 [==============================] - 0s 4ms/step - loss: 0.2510 - accuracy: 0.9335 - val_loss: 0.1243 - val_accuracy: 1.0000\n",
      "Epoch 28/100\n",
      "11/11 [==============================] - 0s 4ms/step - loss: 0.2492 - accuracy: 0.9335 - val_loss: 0.1212 - val_accuracy: 1.0000\n",
      "Epoch 29/100\n",
      "11/11 [==============================] - 0s 4ms/step - loss: 0.2476 - accuracy: 0.9335 - val_loss: 0.1181 - val_accuracy: 1.0000\n",
      "Epoch 30/100\n",
      "11/11 [==============================] - 0s 4ms/step - loss: 0.2462 - accuracy: 0.9335 - val_loss: 0.1154 - val_accuracy: 1.0000\n",
      "Epoch 31/100\n",
      "11/11 [==============================] - 0s 4ms/step - loss: 0.2448 - accuracy: 0.9335 - val_loss: 0.1129 - val_accuracy: 1.0000\n",
      "Epoch 32/100\n",
      "11/11 [==============================] - 0s 4ms/step - loss: 0.2437 - accuracy: 0.9335 - val_loss: 0.1105 - val_accuracy: 1.0000\n",
      "Epoch 33/100\n",
      "11/11 [==============================] - 0s 4ms/step - loss: 0.2425 - accuracy: 0.9335 - val_loss: 0.1082 - val_accuracy: 1.0000\n",
      "Epoch 34/100\n",
      "11/11 [==============================] - 0s 4ms/step - loss: 0.2414 - accuracy: 0.9335 - val_loss: 0.1063 - val_accuracy: 1.0000\n",
      "Epoch 35/100\n",
      "11/11 [==============================] - 0s 4ms/step - loss: 0.2404 - accuracy: 0.9335 - val_loss: 0.1044 - val_accuracy: 1.0000\n",
      "Epoch 36/100\n",
      "11/11 [==============================] - 0s 4ms/step - loss: 0.2395 - accuracy: 0.9335 - val_loss: 0.1026 - val_accuracy: 1.0000\n",
      "Epoch 37/100\n",
      "11/11 [==============================] - 0s 4ms/step - loss: 0.2387 - accuracy: 0.9335 - val_loss: 0.1010 - val_accuracy: 1.0000\n",
      "Epoch 38/100\n",
      "11/11 [==============================] - 0s 4ms/step - loss: 0.2379 - accuracy: 0.9335 - val_loss: 0.0994 - val_accuracy: 1.0000\n",
      "Epoch 39/100\n",
      "11/11 [==============================] - 0s 4ms/step - loss: 0.2372 - accuracy: 0.9335 - val_loss: 0.0982 - val_accuracy: 1.0000\n",
      "Epoch 40/100\n",
      "11/11 [==============================] - 0s 4ms/step - loss: 0.2364 - accuracy: 0.9335 - val_loss: 0.0971 - val_accuracy: 1.0000\n",
      "Epoch 41/100\n",
      "11/11 [==============================] - 0s 5ms/step - loss: 0.2357 - accuracy: 0.9335 - val_loss: 0.0959 - val_accuracy: 1.0000\n",
      "Epoch 42/100\n",
      "11/11 [==============================] - 0s 4ms/step - loss: 0.2351 - accuracy: 0.9335 - val_loss: 0.0947 - val_accuracy: 1.0000\n",
      "Epoch 43/100\n",
      "11/11 [==============================] - 0s 4ms/step - loss: 0.2344 - accuracy: 0.9335 - val_loss: 0.0937 - val_accuracy: 1.0000\n",
      "Epoch 44/100\n",
      "11/11 [==============================] - 0s 4ms/step - loss: 0.2339 - accuracy: 0.9335 - val_loss: 0.0927 - val_accuracy: 1.0000\n",
      "Epoch 45/100\n",
      "11/11 [==============================] - 0s 4ms/step - loss: 0.2332 - accuracy: 0.9335 - val_loss: 0.0918 - val_accuracy: 1.0000\n",
      "Epoch 46/100\n",
      "11/11 [==============================] - 0s 4ms/step - loss: 0.2327 - accuracy: 0.9335 - val_loss: 0.0911 - val_accuracy: 1.0000\n",
      "Epoch 47/100\n",
      "11/11 [==============================] - 0s 4ms/step - loss: 0.2322 - accuracy: 0.9335 - val_loss: 0.0904 - val_accuracy: 1.0000\n",
      "Epoch 48/100\n",
      "11/11 [==============================] - 0s 4ms/step - loss: 0.2317 - accuracy: 0.9335 - val_loss: 0.0896 - val_accuracy: 1.0000\n",
      "Epoch 49/100\n",
      "11/11 [==============================] - 0s 4ms/step - loss: 0.2313 - accuracy: 0.9335 - val_loss: 0.0891 - val_accuracy: 1.0000\n",
      "Epoch 50/100\n",
      "11/11 [==============================] - 0s 4ms/step - loss: 0.2306 - accuracy: 0.9335 - val_loss: 0.0886 - val_accuracy: 1.0000\n",
      "Epoch 51/100\n",
      "11/11 [==============================] - 0s 4ms/step - loss: 0.2301 - accuracy: 0.9335 - val_loss: 0.0880 - val_accuracy: 1.0000\n",
      "Epoch 52/100\n",
      "11/11 [==============================] - 0s 4ms/step - loss: 0.2297 - accuracy: 0.9335 - val_loss: 0.0875 - val_accuracy: 1.0000\n",
      "Epoch 53/100\n",
      "11/11 [==============================] - 0s 4ms/step - loss: 0.2292 - accuracy: 0.9335 - val_loss: 0.0869 - val_accuracy: 1.0000\n",
      "Epoch 54/100\n",
      "11/11 [==============================] - 0s 4ms/step - loss: 0.2287 - accuracy: 0.9335 - val_loss: 0.0864 - val_accuracy: 1.0000\n",
      "Epoch 55/100\n",
      "11/11 [==============================] - 0s 4ms/step - loss: 0.2282 - accuracy: 0.9335 - val_loss: 0.0861 - val_accuracy: 1.0000\n",
      "Epoch 56/100\n",
      "11/11 [==============================] - 0s 4ms/step - loss: 0.2277 - accuracy: 0.9335 - val_loss: 0.0858 - val_accuracy: 1.0000\n",
      "Epoch 57/100\n",
      "11/11 [==============================] - 0s 4ms/step - loss: 0.2273 - accuracy: 0.9335 - val_loss: 0.0854 - val_accuracy: 1.0000\n",
      "Epoch 58/100\n",
      "11/11 [==============================] - 0s 5ms/step - loss: 0.2269 - accuracy: 0.9335 - val_loss: 0.0850 - val_accuracy: 1.0000\n"
     ]
    },
    {
     "name": "stdout",
     "output_type": "stream",
     "text": [
      "Epoch 59/100\n",
      "11/11 [==============================] - 0s 4ms/step - loss: 0.2264 - accuracy: 0.9335 - val_loss: 0.0848 - val_accuracy: 1.0000\n",
      "Epoch 60/100\n",
      "11/11 [==============================] - 0s 4ms/step - loss: 0.2260 - accuracy: 0.9335 - val_loss: 0.0845 - val_accuracy: 1.0000\n",
      "Epoch 61/100\n",
      "11/11 [==============================] - 0s 4ms/step - loss: 0.2256 - accuracy: 0.9335 - val_loss: 0.0841 - val_accuracy: 1.0000\n",
      "Epoch 62/100\n",
      "11/11 [==============================] - 0s 4ms/step - loss: 0.2252 - accuracy: 0.9335 - val_loss: 0.0838 - val_accuracy: 1.0000\n",
      "Epoch 63/100\n",
      "11/11 [==============================] - 0s 4ms/step - loss: 0.2247 - accuracy: 0.9335 - val_loss: 0.0836 - val_accuracy: 1.0000\n",
      "Epoch 64/100\n",
      "11/11 [==============================] - 0s 4ms/step - loss: 0.2243 - accuracy: 0.9335 - val_loss: 0.0833 - val_accuracy: 1.0000\n",
      "Epoch 65/100\n",
      "11/11 [==============================] - 0s 4ms/step - loss: 0.2240 - accuracy: 0.9335 - val_loss: 0.0831 - val_accuracy: 1.0000\n",
      "Epoch 66/100\n",
      "11/11 [==============================] - 0s 4ms/step - loss: 0.2236 - accuracy: 0.9335 - val_loss: 0.0829 - val_accuracy: 1.0000\n",
      "Epoch 67/100\n",
      "11/11 [==============================] - 0s 4ms/step - loss: 0.2233 - accuracy: 0.9335 - val_loss: 0.0828 - val_accuracy: 1.0000\n",
      "Epoch 68/100\n",
      "11/11 [==============================] - 0s 4ms/step - loss: 0.2229 - accuracy: 0.9335 - val_loss: 0.0827 - val_accuracy: 1.0000\n",
      "Epoch 69/100\n",
      "11/11 [==============================] - 0s 4ms/step - loss: 0.2225 - accuracy: 0.9335 - val_loss: 0.0824 - val_accuracy: 1.0000\n",
      "Epoch 70/100\n",
      "11/11 [==============================] - 0s 4ms/step - loss: 0.2222 - accuracy: 0.9335 - val_loss: 0.0822 - val_accuracy: 1.0000\n",
      "Epoch 71/100\n",
      "11/11 [==============================] - 0s 4ms/step - loss: 0.2218 - accuracy: 0.9335 - val_loss: 0.0820 - val_accuracy: 1.0000\n",
      "Epoch 72/100\n",
      "11/11 [==============================] - 0s 4ms/step - loss: 0.2215 - accuracy: 0.9335 - val_loss: 0.0818 - val_accuracy: 1.0000\n",
      "Epoch 73/100\n",
      "11/11 [==============================] - 0s 4ms/step - loss: 0.2212 - accuracy: 0.9335 - val_loss: 0.0816 - val_accuracy: 1.0000\n",
      "Epoch 74/100\n",
      "11/11 [==============================] - 0s 4ms/step - loss: 0.2209 - accuracy: 0.9335 - val_loss: 0.0814 - val_accuracy: 1.0000\n",
      "Epoch 75/100\n",
      "11/11 [==============================] - 0s 4ms/step - loss: 0.2206 - accuracy: 0.9335 - val_loss: 0.0813 - val_accuracy: 1.0000\n",
      "Epoch 76/100\n",
      "11/11 [==============================] - 0s 4ms/step - loss: 0.2203 - accuracy: 0.9335 - val_loss: 0.0811 - val_accuracy: 1.0000\n",
      "Epoch 77/100\n",
      "11/11 [==============================] - 0s 4ms/step - loss: 0.2200 - accuracy: 0.9335 - val_loss: 0.0810 - val_accuracy: 1.0000\n",
      "Epoch 78/100\n",
      "11/11 [==============================] - 0s 4ms/step - loss: 0.2197 - accuracy: 0.9335 - val_loss: 0.0808 - val_accuracy: 1.0000\n",
      "Epoch 79/100\n",
      "11/11 [==============================] - 0s 3ms/step - loss: 0.2194 - accuracy: 0.9335 - val_loss: 0.0807 - val_accuracy: 1.0000\n",
      "Epoch 80/100\n",
      "11/11 [==============================] - 0s 4ms/step - loss: 0.2191 - accuracy: 0.9335 - val_loss: 0.0805 - val_accuracy: 1.0000\n",
      "Epoch 81/100\n",
      "11/11 [==============================] - 0s 4ms/step - loss: 0.2189 - accuracy: 0.9335 - val_loss: 0.0805 - val_accuracy: 1.0000\n",
      "Epoch 82/100\n",
      "11/11 [==============================] - 0s 4ms/step - loss: 0.2185 - accuracy: 0.9335 - val_loss: 0.0803 - val_accuracy: 1.0000\n",
      "Epoch 83/100\n",
      "11/11 [==============================] - 0s 4ms/step - loss: 0.2183 - accuracy: 0.9335 - val_loss: 0.0802 - val_accuracy: 1.0000\n",
      "Epoch 84/100\n",
      "11/11 [==============================] - 0s 4ms/step - loss: 0.2181 - accuracy: 0.9335 - val_loss: 0.0804 - val_accuracy: 1.0000\n",
      "Epoch 85/100\n",
      "11/11 [==============================] - 0s 4ms/step - loss: 0.2177 - accuracy: 0.9335 - val_loss: 0.0804 - val_accuracy: 1.0000\n",
      "Epoch 86/100\n",
      "11/11 [==============================] - 0s 3ms/step - loss: 0.2175 - accuracy: 0.9335 - val_loss: 0.0803 - val_accuracy: 1.0000\n",
      "Epoch 87/100\n",
      "11/11 [==============================] - 0s 4ms/step - loss: 0.2171 - accuracy: 0.9335 - val_loss: 0.0803 - val_accuracy: 1.0000\n",
      "Epoch 88/100\n",
      "11/11 [==============================] - 0s 4ms/step - loss: 0.2168 - accuracy: 0.9335 - val_loss: 0.0802 - val_accuracy: 1.0000\n",
      "Epoch 89/100\n",
      "11/11 [==============================] - 0s 4ms/step - loss: 0.2166 - accuracy: 0.9335 - val_loss: 0.0802 - val_accuracy: 1.0000\n",
      "Epoch 90/100\n",
      "11/11 [==============================] - 0s 5ms/step - loss: 0.2164 - accuracy: 0.9335 - val_loss: 0.0802 - val_accuracy: 1.0000\n",
      "Epoch 91/100\n",
      "11/11 [==============================] - 0s 5ms/step - loss: 0.2161 - accuracy: 0.9335 - val_loss: 0.0800 - val_accuracy: 1.0000\n",
      "Epoch 92/100\n",
      "11/11 [==============================] - 0s 4ms/step - loss: 0.2158 - accuracy: 0.9335 - val_loss: 0.0798 - val_accuracy: 1.0000\n",
      "Epoch 93/100\n",
      "11/11 [==============================] - 0s 4ms/step - loss: 0.2156 - accuracy: 0.9335 - val_loss: 0.0798 - val_accuracy: 1.0000\n",
      "Epoch 94/100\n",
      "11/11 [==============================] - 0s 4ms/step - loss: 0.2153 - accuracy: 0.9335 - val_loss: 0.0798 - val_accuracy: 1.0000\n",
      "Epoch 95/100\n",
      "11/11 [==============================] - 0s 3ms/step - loss: 0.2151 - accuracy: 0.9335 - val_loss: 0.0797 - val_accuracy: 1.0000\n",
      "Epoch 96/100\n",
      "11/11 [==============================] - 0s 4ms/step - loss: 0.2149 - accuracy: 0.9335 - val_loss: 0.0796 - val_accuracy: 1.0000\n",
      "Epoch 97/100\n",
      "11/11 [==============================] - 0s 4ms/step - loss: 0.2147 - accuracy: 0.9335 - val_loss: 0.0795 - val_accuracy: 1.0000\n",
      "Epoch 98/100\n",
      "11/11 [==============================] - 0s 4ms/step - loss: 0.2146 - accuracy: 0.9335 - val_loss: 0.0796 - val_accuracy: 1.0000\n",
      "Epoch 99/100\n",
      "11/11 [==============================] - 0s 5ms/step - loss: 0.2143 - accuracy: 0.9335 - val_loss: 0.0795 - val_accuracy: 1.0000\n",
      "Epoch 100/100\n",
      "11/11 [==============================] - 0s 4ms/step - loss: 0.2141 - accuracy: 0.9335 - val_loss: 0.0797 - val_accuracy: 1.0000\n"
     ]
    }
   ],
   "source": [
    "model=Sequential()\n",
    "model.add(Dense(9,activation='relu',input_shape=(8,)))\n",
    "model.add(Dense(7,activation='relu'))\n",
    "model.add(Dense(1,activation='sigmoid'))\n",
    "model.compile(optimizer='sgd',\n",
    "              loss='binary_crossentropy',\n",
    "              metrics=['accuracy'])\n",
    "hist = model.fit(X_train, y_train,\n",
    "          batch_size=32, epochs=100,\n",
    "          validation_data=(X_test, y_test))"
   ]
  },
  {
   "cell_type": "code",
   "execution_count": 31,
   "metadata": {
    "collapsed": true
   },
   "outputs": [],
   "source": [
    "y_pred=model.predict(X_test)"
   ]
  },
  {
   "cell_type": "code",
   "execution_count": 32,
   "metadata": {},
   "outputs": [
    {
     "data": {
      "text/plain": [
       "array([[0.02208284],\n",
       "       [0.01977476],\n",
       "       [0.01535201],\n",
       "       [0.02227664],\n",
       "       [0.02726963]], dtype=float32)"
      ]
     },
     "execution_count": 32,
     "metadata": {},
     "output_type": "execute_result"
    }
   ],
   "source": [
    "y_pred[:5]"
   ]
  },
  {
   "cell_type": "code",
   "execution_count": 33,
   "metadata": {},
   "outputs": [
    {
     "data": {
      "text/plain": [
       "array([0, 0, 0, 0, 0], dtype=int64)"
      ]
     },
     "execution_count": 33,
     "metadata": {},
     "output_type": "execute_result"
    }
   ],
   "source": [
    "y_test[:5]"
   ]
  },
  {
   "cell_type": "code",
   "execution_count": null,
   "metadata": {
    "collapsed": true
   },
   "outputs": [],
   "source": [
    "# vamos ver todo o nosso vetor com as probabilidades"
   ]
  },
  {
   "cell_type": "code",
   "execution_count": 34,
   "metadata": {},
   "outputs": [
    {
     "data": {
      "text/plain": [
       "array([[0.02208284],\n",
       "       [0.01977476],\n",
       "       [0.01535201],\n",
       "       [0.02227664],\n",
       "       [0.02726963],\n",
       "       [0.05112404],\n",
       "       [0.05317536],\n",
       "       [0.02170852],\n",
       "       [0.02898329],\n",
       "       [0.03033203],\n",
       "       [0.07303184],\n",
       "       [0.03649327],\n",
       "       [0.03437996],\n",
       "       [0.04670465],\n",
       "       [0.03172201],\n",
       "       [0.03601676],\n",
       "       [0.04143384],\n",
       "       [0.20334837],\n",
       "       [0.02332836],\n",
       "       [0.04087847],\n",
       "       [0.21104515],\n",
       "       [0.1521079 ],\n",
       "       [0.06061158],\n",
       "       [0.19146684],\n",
       "       [0.1522013 ],\n",
       "       [0.05742112],\n",
       "       [0.08341083],\n",
       "       [0.05334166],\n",
       "       [0.03859714],\n",
       "       [0.08526191],\n",
       "       [0.1836744 ],\n",
       "       [0.03860977],\n",
       "       [0.08586594],\n",
       "       [0.04096904],\n",
       "       [0.04164261],\n",
       "       [0.04096848],\n",
       "       [0.03637245],\n",
       "       [0.03559601],\n",
       "       [0.06717771],\n",
       "       [0.10553449],\n",
       "       [0.04095519],\n",
       "       [0.09707287],\n",
       "       [0.04990366],\n",
       "       [0.08750835],\n",
       "       [0.11504933],\n",
       "       [0.05117726],\n",
       "       [0.09191868],\n",
       "       [0.09391782],\n",
       "       [0.05158201],\n",
       "       [0.10864231],\n",
       "       [0.17560819],\n",
       "       [0.0759407 ],\n",
       "       [0.06304586],\n",
       "       [0.08933136],\n",
       "       [0.06389284],\n",
       "       [0.11981064],\n",
       "       [0.09092298],\n",
       "       [0.09290108],\n",
       "       [0.05208677],\n",
       "       [0.07076782],\n",
       "       [0.20622247],\n",
       "       [0.05122271],\n",
       "       [0.05425462],\n",
       "       [0.1807636 ],\n",
       "       [0.04303515],\n",
       "       [0.0454579 ],\n",
       "       [0.04403001],\n",
       "       [0.04569295],\n",
       "       [0.17314672],\n",
       "       [0.04573306],\n",
       "       [0.04539323],\n",
       "       [0.04539347],\n",
       "       [0.04195127],\n",
       "       [0.04880849],\n",
       "       [0.0816167 ],\n",
       "       [0.16829315],\n",
       "       [0.19025302],\n",
       "       [0.19119114],\n",
       "       [0.09084973],\n",
       "       [0.04300436],\n",
       "       [0.07638371],\n",
       "       [0.16305974],\n",
       "       [0.04965296],\n",
       "       [0.05073574],\n",
       "       [0.08235636],\n",
       "       [0.03556886],\n",
       "       [0.03993681],\n",
       "       [0.0729298 ],\n",
       "       [0.07826379],\n",
       "       [0.15929142],\n",
       "       [0.03473699],\n",
       "       [0.08319336],\n",
       "       [0.08319697],\n",
       "       [0.15424013],\n",
       "       [0.06207001],\n",
       "       [0.07171685],\n",
       "       [0.04294327],\n",
       "       [0.04413736],\n",
       "       [0.03453714],\n",
       "       [0.03594372],\n",
       "       [0.1588723 ],\n",
       "       [0.03077987],\n",
       "       [0.03787702],\n",
       "       [0.12710005],\n",
       "       [0.04310641],\n",
       "       [0.02210096],\n",
       "       [0.07957733],\n",
       "       [0.0197024 ]], dtype=float32)"
      ]
     },
     "execution_count": 34,
     "metadata": {},
     "output_type": "execute_result"
    }
   ],
   "source": [
    "y_pred"
   ]
  }
 ],
 "metadata": {
  "kernelspec": {
   "display_name": "Python 3",
   "language": "python",
   "name": "python3"
  },
  "language_info": {
   "codemirror_mode": {
    "name": "ipython",
    "version": 3
   },
   "file_extension": ".py",
   "mimetype": "text/x-python",
   "name": "python",
   "nbconvert_exporter": "python",
   "pygments_lexer": "ipython3",
   "version": "3.6.1"
  }
 },
 "nbformat": 4,
 "nbformat_minor": 2
}
