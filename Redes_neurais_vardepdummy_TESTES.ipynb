{
 "cells": [
  {
   "cell_type": "code",
   "execution_count": null,
   "metadata": {
    "collapsed": true
   },
   "outputs": [],
   "source": [
    "#TESTES COM REDES NEURAIS"
   ]
  },
  {
   "cell_type": "code",
   "execution_count": null,
   "metadata": {
    "collapsed": true
   },
   "outputs": [],
   "source": [
    "# vamos fazer alguns testes variando número e densidade de camadas assim como qual matriz de ativação utilizamos e veremos\n",
    "# como isso influencia a acurácia da nossa rede neural"
   ]
  },
  {
   "cell_type": "code",
   "execution_count": null,
   "metadata": {
    "collapsed": true
   },
   "outputs": [],
   "source": [
    "#redes neurais artificiais\n",
    "#deep learning usando o python\n",
    "#vamos importar os dados de tipo de vinho, branco e tinto\n",
    "#vamos importar direto do site, muito legal"
   ]
  },
  {
   "cell_type": "code",
   "execution_count": 1,
   "metadata": {
    "collapsed": true
   },
   "outputs": [],
   "source": [
    "import pandas as pd\n",
    "white=pd.read_csv(\"http://archive.ics.uci.edu/ml/machine-learning-databases/wine-quality/winequality-white.csv\",sep=';')\n",
    "red=pd.read_csv(\"http://archive.ics.uci.edu/ml/machine-learning-databases/wine-quality/winequality-red.csv\",sep=';')\n",
    "from sklearn.model_selection import train_test_split"
   ]
  },
  {
   "cell_type": "code",
   "execution_count": null,
   "metadata": {
    "collapsed": true
   },
   "outputs": [],
   "source": [
    "#vamos criar a variável que vai separar identificar se o vinho é branco ou tinto"
   ]
  },
  {
   "cell_type": "code",
   "execution_count": 2,
   "metadata": {
    "collapsed": true
   },
   "outputs": [],
   "source": [
    "red['type']=1\n",
    "white['type']=0"
   ]
  },
  {
   "cell_type": "code",
   "execution_count": null,
   "metadata": {
    "collapsed": true
   },
   "outputs": [],
   "source": [
    "#agora vamos juntar as duas bases de dados"
   ]
  },
  {
   "cell_type": "code",
   "execution_count": 3,
   "metadata": {
    "collapsed": true
   },
   "outputs": [],
   "source": [
    "wines=red.append(white,ignore_index=True)\n",
    "X=wines.iloc[:,0:11]\n",
    "import numpy as np\n",
    "y=np.ravel(wines.type)"
   ]
  },
  {
   "cell_type": "code",
   "execution_count": null,
   "metadata": {
    "collapsed": true
   },
   "outputs": [],
   "source": [
    "#agora vamos separar as bases de dados entre treino e teste"
   ]
  },
  {
   "cell_type": "code",
   "execution_count": 4,
   "metadata": {
    "collapsed": true
   },
   "outputs": [],
   "source": [
    "X_train,X_test,y_train,y_test=train_test_split(X,y,test_size=0.33,random_state=42)"
   ]
  },
  {
   "cell_type": "code",
   "execution_count": null,
   "metadata": {
    "collapsed": true
   },
   "outputs": [],
   "source": [
    "#agora vamos padronizar os dados (seus valores variam entre os observados em uma distribuição normal)"
   ]
  },
  {
   "cell_type": "code",
   "execution_count": 5,
   "metadata": {
    "collapsed": true
   },
   "outputs": [],
   "source": [
    "from sklearn.preprocessing import StandardScaler\n",
    "scaler=StandardScaler().fit(X_train)\n",
    "X_train=scaler.transform(X_train)\n",
    "X_test=scaler.transform(X_test)"
   ]
  },
  {
   "cell_type": "code",
   "execution_count": null,
   "metadata": {
    "collapsed": true
   },
   "outputs": [],
   "source": [
    "#vamos agora fazer o modelo\n",
    "#vamos utilizar a matriz de ativação relu, que é a mais comumenten utilizada\n",
    "#vamos utilizar Sequential() para passar um conjunto de camadas para nossa rede neural\n",
    "#para determinar as camadas que vamos ter no modelo configuramos os\n",
    "#parâmetros input_shape,input_dim,input_length ou batch_size\n",
    "#por meio da função Dense, determinamos cada layer"
   ]
  },
  {
   "cell_type": "code",
   "execution_count": 7,
   "metadata": {
    "collapsed": true
   },
   "outputs": [],
   "source": [
    "from keras.models import Sequential\n",
    "from keras.layers import Dense"
   ]
  },
  {
   "cell_type": "code",
   "execution_count": null,
   "metadata": {
    "collapsed": true
   },
   "outputs": [],
   "source": [
    "#vamos determinar nossa primeira camada (input): dimensão 12 \n",
    "#vamos determinar nossa segunda camada (intermediate layer): dimensão 8 \n",
    "#vamos determinar nossa terceira camada (output): dimensão 1"
   ]
  },
  {
   "cell_type": "code",
   "execution_count": null,
   "metadata": {
    "collapsed": true
   },
   "outputs": [],
   "source": [
    "#como vemos, há duas decisões que devem ser tomadas, quantas camadas um modelo\n",
    "#deve ter e o quão densa cada camada deve ser (no nosso caso temos 3 camadas\n",
    "#cada uma com densidade de, respectivamente 12, 8 e 1)\n",
    "#é padrão utilizar como dimensão da camada input (primeira) a dimensão do nosso\n",
    "#dataset (11 variáveis independentes 1 dependente, para não dar overfitting) e como #output (obvio dimensão 1 pois é a nossa variável dependente)\n",
    "#agora vamos compilar o modelo. Vamos utilizar o otimizador adam (mas há outros)\n",
    "#como estamos tentando prever um valor binário, vamos utilizar o loss=binar_crossentropy\n",
    "#mas se estivessemos tentando prever um valor mult-class, deveríamos utilizar\n",
    "#categorical_crossentropy (fazendo uma analogia, é semelhante ao valor minimizado\n",
    "#quanto utilizamos regressão, que é o Mean Squared Error (MSE))"
   ]
  },
  {
   "cell_type": "code",
   "execution_count": null,
   "metadata": {
    "collapsed": true
   },
   "outputs": [],
   "source": [
    "# IMPORTANTÍSSIMO: LEMBRAR QUE PARA REDES NEURAIS QUE PREVEEM VARIÁVEIS DUMMY, A CAMADA DE OUTPUT TAMBÉM TEM QUE APRESENTAR\n",
    "# UMA MATRIZ DE ATIVAÇÃO, NESSE CASO 'sigmoid'. CASO CONTRÁRIO, OS VALORES PREVISTOS NÃO SERIAM APENAS 0 OU 1"
   ]
  },
  {
   "cell_type": "code",
   "execution_count": null,
   "metadata": {
    "collapsed": true
   },
   "outputs": [],
   "source": []
  },
  {
   "cell_type": "code",
   "execution_count": 8,
   "metadata": {},
   "outputs": [],
   "source": [
    "model=Sequential()\n",
    "model.add(Dense(12,activation='relu',input_shape=(11,)))\n",
    "model.add(Dense(8,activation='relu'))\n",
    "model.add(Dense(1,activation='sigmoid'))\n",
    "model.compile(loss='binary_crossentropy',optimizer='adam',metrics=['accuracy'])"
   ]
  },
  {
   "cell_type": "code",
   "execution_count": null,
   "metadata": {
    "collapsed": true
   },
   "outputs": [],
   "source": [
    "#vamos treinar o modelo com 20 epochs, ou iterações sobre a amostra em X_train e ytrain\n",
    "#epochs=20 indica que o modelo será treinado passando 20 vezes por toda a base de treino\n",
    "#batch_size identifica o número de amostras a serem propagadas pela rede (uma só pois\n",
    "#só estamos utilizando uma base de dados)\n",
    "#o argumento verbose=1 indica que queremos ver em tela as iterações do modelo"
   ]
  },
  {
   "cell_type": "code",
   "execution_count": 9,
   "metadata": {},
   "outputs": [
    {
     "name": "stdout",
     "output_type": "stream",
     "text": [
      "Epoch 1/20\n",
      "4352/4352 [==============================] - 36s 1ms/step - loss: 0.1492 - accuracy: 0.9473\n",
      "Epoch 2/20\n",
      "4352/4352 [==============================] - 5s 1ms/step - loss: 0.0219 - accuracy: 0.9966: 0s\n",
      "Epoch 3/20\n",
      "4352/4352 [==============================] - 5s 1ms/step - loss: 0.0140 - accuracy: 0.9978\n",
      "Epoch 4/20\n",
      "4352/4352 [==============================] - 5s 1ms/step - loss: 0.0155 - accuracy: 0.9971\n",
      "Epoch 5/20\n",
      "4352/4352 [==============================] - 5s 1ms/step - loss: 0.0143 - accuracy: 0.9975\n",
      "Epoch 6/20\n",
      "4352/4352 [==============================] - 5s 1ms/step - loss: 0.0168 - accuracy: 0.9961\n",
      "Epoch 7/20\n",
      "4352/4352 [==============================] - 5s 1ms/step - loss: 0.0134 - accuracy: 0.9976\n",
      "Epoch 8/20\n",
      "4352/4352 [==============================] - 5s 1ms/step - loss: 0.0157 - accuracy: 0.9974\n",
      "Epoch 9/20\n",
      "4352/4352 [==============================] - 5s 1ms/step - loss: 0.0167 - accuracy: 0.9968\n",
      "Epoch 10/20\n",
      "4352/4352 [==============================] - 5s 1ms/step - loss: 0.0186 - accuracy: 0.9969\n",
      "Epoch 11/20\n",
      "4352/4352 [==============================] - 5s 1ms/step - loss: 0.0120 - accuracy: 0.9976\n",
      "Epoch 12/20\n",
      "4352/4352 [==============================] - 5s 1ms/step - loss: 0.0080 - accuracy: 0.9989\n",
      "Epoch 13/20\n",
      "4352/4352 [==============================] - 5s 1ms/step - loss: 0.0120 - accuracy: 0.9972\n",
      "Epoch 14/20\n",
      "4352/4352 [==============================] - 5s 1ms/step - loss: 0.0062 - accuracy: 0.9981\n",
      "Epoch 15/20\n",
      "4352/4352 [==============================] - 5s 1ms/step - loss: 0.0039 - accuracy: 0.9995\n",
      "Epoch 16/20\n",
      "4352/4352 [==============================] - 5s 1ms/step - loss: 0.0084 - accuracy: 0.9983\n",
      "Epoch 17/20\n",
      "4352/4352 [==============================] - 5s 1ms/step - loss: 0.0077 - accuracy: 0.9987\n",
      "Epoch 18/20\n",
      "4352/4352 [==============================] - 5s 1ms/step - loss: 0.0056 - accuracy: 0.9983\n",
      "Epoch 19/20\n",
      "4352/4352 [==============================] - 5s 1ms/step - loss: 0.0041 - accuracy: 0.9982\n",
      "Epoch 20/20\n",
      "4352/4352 [==============================] - 5s 1ms/step - loss: 0.0043 - accuracy: 0.9988\n"
     ]
    }
   ],
   "source": [
    "model.fit(X_train,y_train,epochs=20,batch_size=1,verbose=1)\n",
    "y_pred=model.predict(X_test)"
   ]
  },
  {
   "cell_type": "code",
   "execution_count": null,
   "metadata": {
    "collapsed": true
   },
   "outputs": [],
   "source": [
    "#y_pred vai nos dar a porcentagem de chance de cada vinho ser tinto"
   ]
  },
  {
   "cell_type": "code",
   "execution_count": 10,
   "metadata": {},
   "outputs": [
    {
     "data": {
      "text/plain": [
       "array([0, 1, 0, 0, 0], dtype=int64)"
      ]
     },
     "execution_count": 10,
     "metadata": {},
     "output_type": "execute_result"
    }
   ],
   "source": [
    "y_pred[:5]\n",
    "y_test[:5]"
   ]
  },
  {
   "cell_type": "code",
   "execution_count": null,
   "metadata": {
    "collapsed": true
   },
   "outputs": [],
   "source": [
    "#agora vamos avaliar o modelo"
   ]
  },
  {
   "cell_type": "code",
   "execution_count": 11,
   "metadata": {},
   "outputs": [
    {
     "name": "stdout",
     "output_type": "stream",
     "text": [
      "68/68 [==============================] - 1s 1ms/step - loss: 0.0268 - accuracy: 0.9953\n",
      "[0.026782097294926643, 0.9953380227088928]\n"
     ]
    }
   ],
   "source": [
    "score=model.evaluate(X_test,y_test,verbose=1)\n",
    "print(score)\n",
    "from sklearn.metrics import confusion_matrix, precision_score, recall_score, f1_score, cohen_kappa_score"
   ]
  },
  {
   "cell_type": "code",
   "execution_count": null,
   "metadata": {
    "collapsed": true
   },
   "outputs": [],
   "source": [
    "#para a matriz de confusão, vamos precisar arredondar os valores"
   ]
  },
  {
   "cell_type": "code",
   "execution_count": 16,
   "metadata": {},
   "outputs": [
    {
     "data": {
      "text/plain": [
       "array([[1584,    4],\n",
       "       [   6,  551]], dtype=int64)"
      ]
     },
     "execution_count": 16,
     "metadata": {},
     "output_type": "execute_result"
    }
   ],
   "source": [
    "y_pred=np.rint(y_pred)\n",
    "confusion_matrix(y_test,y_pred)"
   ]
  },
  {
   "cell_type": "code",
   "execution_count": 17,
   "metadata": {},
   "outputs": [
    {
     "data": {
      "text/plain": [
       "0.9927927927927928"
      ]
     },
     "execution_count": 17,
     "metadata": {},
     "output_type": "execute_result"
    }
   ],
   "source": [
    "precision_score(y_test,y_pred)"
   ]
  },
  {
   "cell_type": "code",
   "execution_count": 18,
   "metadata": {},
   "outputs": [
    {
     "data": {
      "text/plain": [
       "0.9892280071813285"
      ]
     },
     "execution_count": 18,
     "metadata": {},
     "output_type": "execute_result"
    }
   ],
   "source": [
    "recall_score(y_test,y_pred)"
   ]
  },
  {
   "cell_type": "code",
   "execution_count": 19,
   "metadata": {},
   "outputs": [
    {
     "data": {
      "text/plain": [
       "0.9910071942446043"
      ]
     },
     "execution_count": 19,
     "metadata": {},
     "output_type": "execute_result"
    }
   ],
   "source": [
    "f1_score(y_test,y_pred)"
   ]
  },
  {
   "cell_type": "code",
   "execution_count": 20,
   "metadata": {},
   "outputs": [
    {
     "data": {
      "text/plain": [
       "0.9878605748824258"
      ]
     },
     "execution_count": 20,
     "metadata": {},
     "output_type": "execute_result"
    }
   ],
   "source": [
    "cohen_kappa_score(y_test,y_pred)"
   ]
  },
  {
   "cell_type": "code",
   "execution_count": null,
   "metadata": {
    "collapsed": true
   },
   "outputs": [],
   "source": [
    "# vamos fazer alguns testes para ver se conseguimos melhorar o modelo"
   ]
  },
  {
   "cell_type": "code",
   "execution_count": null,
   "metadata": {
    "collapsed": true
   },
   "outputs": [],
   "source": [
    "# primeiro vamos usar meu padrão, que são três camadas, a primeira com densidade igual ao total de variáveis dependente\n",
    "# e independente. A segunda com a metade da densidade e a terceira com densidade 1."
   ]
  },
  {
   "cell_type": "code",
   "execution_count": 28,
   "metadata": {},
   "outputs": [
    {
     "name": "stdout",
     "output_type": "stream",
     "text": [
      "Epoch 1/20\n",
      "4352/4352 [==============================] - 8s 2ms/step - loss: 0.1896 - accuracy: 0.9469\n",
      "Epoch 2/20\n",
      "4352/4352 [==============================] - 9s 2ms/step - loss: 0.0279 - accuracy: 0.9936\n",
      "Epoch 3/20\n",
      "4352/4352 [==============================] - 7s 2ms/step - loss: 0.0183 - accuracy: 0.9956\n",
      "Epoch 4/20\n",
      "4352/4352 [==============================] - 7s 2ms/step - loss: 0.0192 - accuracy: 0.9967: 1s - loss: 0.0 - ETA: 0s - los\n",
      "Epoch 5/20\n",
      "4352/4352 [==============================] - 6s 1ms/step - loss: 0.0122 - accuracy: 0.9983\n",
      "Epoch 6/20\n",
      "4352/4352 [==============================] - 8s 2ms/step - loss: 0.0153 - accuracy: 0.9957\n",
      "Epoch 7/20\n",
      "4352/4352 [==============================] - 6s 1ms/step - loss: 0.0123 - accuracy: 0.9976: 3s - loss: 0 - ETA: 0s - loss: 0.0123 - accuracy: 0. - ETA: 0s - loss: 0.0\n",
      "Epoch 8/20\n",
      "4352/4352 [==============================] - 7s 1ms/step - loss: 0.0087 - accuracy: 0.9988: 5s - loss: 0.0010 - accuracy: 1.00 - E - ETA: 4s - loss: 0.0059 - accu - ETA: 4s - loss: - ETA: 2s -\n",
      "Epoch 9/20\n",
      "4352/4352 [==============================] - 7s 2ms/step - loss: 0.0082 - accuracy: 0.9985\n",
      "Epoch 10/20\n",
      "4352/4352 [==============================] - 6s 1ms/step - loss: 0.0064 - accuracy: 0.9986: 3s - loss: 0.0037 - accuracy: 0.99 - ETA: 3s - loss: - ETA: 0s - loss: 0 - ETA: 0s - l\n",
      "Epoch 11/20\n",
      "4352/4352 [==============================] - 8s 2ms/step - loss: 0.0080 - accuracy: 0.9986: 2s - los\n",
      "Epoch 12/20\n",
      "4352/4352 [==============================] - 10s 2ms/step - loss: 0.0084 - accuracy: 0.9975 4s - loss: 0.0082 - accu - ETA: 3s\n",
      "Epoch 13/20\n",
      "4352/4352 [==============================] - 7s 2ms/step - loss: 0.0066 - accuracy: 0.9986\n",
      "Epoch 14/20\n",
      "4352/4352 [==============================] - 8s 2ms/step - loss: 0.0079 - accuracy: 0.9977: 2s - loss: 0.0075 - accura\n",
      "Epoch 15/20\n",
      "4352/4352 [==============================] - 7s 2ms/step - loss: 0.0094 - accuracy: 0.9976\n",
      "Epoch 16/20\n",
      "4352/4352 [==============================] - 6s 1ms/step - loss: 0.0083 - accuracy: 0.9981: 1s - loss: 0.008 - ETA\n",
      "Epoch 17/20\n",
      "4352/4352 [==============================] - 9s 2ms/step - loss: 0.0079 - accuracy: 0.9981\n",
      "Epoch 18/20\n",
      "4352/4352 [==============================] - 10s 2ms/step - loss: 0.0044 - accuracy: 0.9988\n",
      "Epoch 19/20\n",
      "4352/4352 [==============================] - 9s 2ms/step - loss: 0.0040 - accuracy: 0.9993\n",
      "Epoch 20/20\n",
      "4352/4352 [==============================] - 11s 3ms/step - loss: 0.0059 - accuracy: 0.9983 0s - loss: 0.0058 - ac\n"
     ]
    }
   ],
   "source": [
    "model2=Sequential()\n",
    "model2.add(Dense(12,activation='relu',input_shape=(11,)))\n",
    "model2.add(Dense(6,activation='relu'))\n",
    "model2.add(Dense(1,activation='sigmoid'))\n",
    "model2.compile(loss='binary_crossentropy',optimizer='adam',metrics=['accuracy'])\n",
    "model2.fit(X_train,y_train,epochs=20,batch_size=1,verbose=1)\n",
    "y_pred=model2.predict(X_test)"
   ]
  },
  {
   "cell_type": "code",
   "execution_count": 29,
   "metadata": {},
   "outputs": [
    {
     "name": "stdout",
     "output_type": "stream",
     "text": [
      "68/68 [==============================] - 0s 1ms/step - loss: 0.0224 - accuracy: 0.9949\n",
      "[0.022439932450652122, 0.9948717951774597]\n"
     ]
    }
   ],
   "source": [
    "score=model2.evaluate(X_test,y_test,verbose=1)\n",
    "print(score)"
   ]
  },
  {
   "cell_type": "code",
   "execution_count": 30,
   "metadata": {},
   "outputs": [
    {
     "data": {
      "text/plain": [
       "array([[1585,    3],\n",
       "       [   8,  549]], dtype=int64)"
      ]
     },
     "execution_count": 30,
     "metadata": {},
     "output_type": "execute_result"
    }
   ],
   "source": [
    "y_pred=np.rint(y_pred)\n",
    "confusion_matrix(y_test,y_pred)"
   ]
  },
  {
   "cell_type": "code",
   "execution_count": null,
   "metadata": {
    "collapsed": true
   },
   "outputs": [],
   "source": [
    "# Não variou consideravelmente, mas piorou um pouco acurácia"
   ]
  }
 ],
 "metadata": {
  "kernelspec": {
   "display_name": "Python 3",
   "language": "python",
   "name": "python3"
  },
  "language_info": {
   "codemirror_mode": {
    "name": "ipython",
    "version": 3
   },
   "file_extension": ".py",
   "mimetype": "text/x-python",
   "name": "python",
   "nbconvert_exporter": "python",
   "pygments_lexer": "ipython3",
   "version": "3.6.12"
  }
 },
 "nbformat": 4,
 "nbformat_minor": 2
}
